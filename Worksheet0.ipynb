{
  "nbformat": 4,
  "nbformat_minor": 0,
  "metadata": {
    "colab": {
      "provenance": [],
      "authorship_tag": "ABX9TyN9SEfBRykLhY5lSeUWvj0k",
      "include_colab_link": true
    },
    "kernelspec": {
      "name": "python3",
      "display_name": "Python 3"
    },
    "language_info": {
      "name": "python"
    }
  },
  "cells": [
    {
      "cell_type": "markdown",
      "metadata": {
        "id": "view-in-github",
        "colab_type": "text"
      },
      "source": [
        "<a href=\"https://colab.research.google.com/github/MaskeyRiddhi/AI-ML/blob/main/Worksheet0.ipynb\" target=\"_parent\"><img src=\"https://colab.research.google.com/assets/colab-badge.svg\" alt=\"Open In Colab\"/></a>"
      ]
    },
    {
      "cell_type": "markdown",
      "source": [
        "# Exercise on Functions:\n",
        "Task - 1:\n",
        "\n",
        "Create a Python program that converts between different units of measurement.\n",
        "\n",
        "• The program should:\n",
        "1. Prompt the user to choose the type of conversion (e.g., length, weight, volume).\n",
        "2. Ask the user to input the value to be converted.\n",
        "3. Perform the conversion and display the result.\n",
        "4. Handle potential errors, such as invalid input or unsupported conversion types."
      ],
      "metadata": {
        "id": "OTSOqVI-rYQw"
      }
    },
    {
      "cell_type": "code",
      "execution_count": null,
      "metadata": {
        "id": "LlW4e_9BeA-Y",
        "colab": {
          "base_uri": "https://localhost:8080/"
        },
        "outputId": "5d2ab5f3-eb60-404d-d9b0-c44a18942d3c"
      },
      "outputs": [
        {
          "output_type": "stream",
          "name": "stdout",
          "text": [
            "Welcome to the Unit Conversion Program!\n",
            "Choose the type of conversion:\n",
            "1. Length (meters to feet or feet to meters)\n",
            "2. Weight (kilograms to pounds or pounds to kilograms)\n",
            "3. Volume (liters to gallons or gallons to liters)\n",
            "Enter the number of your choice (1, 2, or 3): 1\n",
            "Enter the value to be converted: 5\n",
            "For Length conversion, choose between meters (m) and feet (ft).\n",
            "Enter the unit to convert from (m/ft): m\n",
            "Enter the unit to convert to (m/ft): ft\n",
            "5.0 M is equal to 16.4042 FT.\n"
          ]
        }
      ],
      "source": [
        "def convert_length(value, from_unit, to_unit):\n",
        "    \"\"\"\n",
        "    Converts a given length value from one unit to another.\n",
        "\n",
        "    Parameters:\n",
        "    value (float): The value to be converted.\n",
        "    from_unit (str): The unit of the original value (e.g., \"m\" for meter, \"ft\" for feet).\n",
        "    to_unit (str): The unit to convert the value to (e.g., \"ft\" for feet, \"m\" for meter).\n",
        "\n",
        "    Returns:\n",
        "    float: The converted value in the target unit.\n",
        "    \"\"\"\n",
        "    if from_unit == \"m\" and to_unit == \"ft\":\n",
        "        return value * 3.28084\n",
        "    elif from_unit == \"ft\" and to_unit == \"m\":\n",
        "        return value / 3.28084\n",
        "    else:\n",
        "        raise ValueError(\"Unsupported length conversion.\")\n",
        "\n",
        "def convert_weight(value, from_unit, to_unit):\n",
        "    \"\"\"\n",
        "    Converts a given weight value from one unit to another.\n",
        "\n",
        "    Parameters:\n",
        "    value (float): The value to be converted.\n",
        "    from_unit (str): The unit of the original value (e.g., \"kg\" for kilograms, \"lbs\" for pounds).\n",
        "    to_unit (str): The unit to convert the value to (e.g., \"lbs\" for pounds, \"kg\" for kilograms).\n",
        "\n",
        "    Returns:\n",
        "    float: The converted value in the target unit.\n",
        "    \"\"\"\n",
        "    if from_unit == \"kg\" and to_unit == \"lbs\":\n",
        "        return value * 2.20462\n",
        "    elif from_unit == \"lbs\" and to_unit == \"kg\":\n",
        "        return value / 2.20462\n",
        "    else:\n",
        "        raise ValueError(\"Unsupported weight conversion.\")\n",
        "\n",
        "def convert_volume(value, from_unit, to_unit):\n",
        "    \"\"\"\n",
        "    Converts a given volume value from one unit to another.\n",
        "\n",
        "    Parameters:\n",
        "    value (float): The value to be converted.\n",
        "    from_unit (str): The unit of the original value (e.g., \"L\" for liters, \"gal\" for gallons).\n",
        "    to_unit (str): The unit to convert the value to (e.g., \"gal\" for gallons, \"L\" for liters).\n",
        "\n",
        "    Returns:\n",
        "    float: The converted value in the target unit.\n",
        "    \"\"\"\n",
        "    if from_unit == \"L\" and to_unit == \"gal\":\n",
        "        return value * 0.264172\n",
        "    elif from_unit == \"gal\" and to_unit == \"L\":\n",
        "        return value / 0.264172\n",
        "    else:\n",
        "        raise ValueError(\"Unsupported volume conversion.\")\n",
        "\n",
        "def main():\n",
        "    \"\"\"\n",
        "    Main function that drives the unit conversion program.\n",
        "    Prompts the user for the type of conversion, the value, and the units to convert.\n",
        "    Handles errors gracefully and displays the result.\n",
        "    \"\"\"\n",
        "    try:\n",
        "        print(\"Welcome to the Unit Conversion Program!\")\n",
        "        print(\"Choose the type of conversion:\")\n",
        "        print(\"1. Length (meters to feet or feet to meters)\")\n",
        "        print(\"2. Weight (kilograms to pounds or pounds to kilograms)\")\n",
        "        print(\"3. Volume (liters to gallons or gallons to liters)\")\n",
        "\n",
        "        choice = input(\"Enter the number of your choice (1, 2, or 3): \").strip()\n",
        "\n",
        "        if choice not in [\"1\", \"2\", \"3\"]:\n",
        "            raise ValueError(\"Invalid choice! Please select a valid option (1, 2, or 3).\")\n",
        "\n",
        "        value = float(input(\"Enter the value to be converted: \"))\n",
        "\n",
        "        if choice == \"1\":\n",
        "            print(\"For Length conversion, choose between meters (m) and feet (ft).\")\n",
        "            from_unit = input(\"Enter the unit to convert from (m/ft): \").strip().lower()\n",
        "            to_unit = input(\"Enter the unit to convert to (m/ft): \").strip().lower()\n",
        "            result = convert_length(value, from_unit, to_unit)\n",
        "\n",
        "        elif choice == \"2\":\n",
        "            print(\"For Weight conversion, choose between kilograms (kg) and pounds (lbs).\")\n",
        "            from_unit = input(\"Enter the unit to convert from (kg/lbs): \").strip().lower()\n",
        "            to_unit = input(\"Enter the unit to convert to (kg/lbs): \").strip().lower()\n",
        "            result = convert_weight(value, from_unit, to_unit)\n",
        "\n",
        "        elif choice == \"3\":\n",
        "            print(\"For Volume conversion, choose between liters (L) and gallons (gal).\")\n",
        "            from_unit = input(\"Enter the unit to convert from (L/gal): \").strip().lower()\n",
        "            to_unit = input(\"Enter the unit to convert to (L/gal): \").strip().lower()\n",
        "            result = convert_volume(value, from_unit, to_unit)\n",
        "\n",
        "        print(f\"{value} {from_unit.upper()} is equal to {result} {to_unit.upper()}.\")\n",
        "\n",
        "    except ValueError as e:\n",
        "        print(f\"Error: {e}\")\n",
        "    except Exception as e:\n",
        "        print(f\"An unexpected error occurred: {e}\")\n",
        "\n",
        "if __name__ == \"__main__\":\n",
        "    main()\n"
      ]
    },
    {
      "cell_type": "markdown",
      "source": [
        "Task - 2:\n",
        "\n",
        "Create a Python program that performs various mathematical operations on a list of numbers.\n",
        "\n",
        "• The Program should:\n",
        "1. Prompt the user to choose an operation (e.g., find the sum, average, maximum, or minimum\n",
        "of the numbers).\n",
        "2. Ask the user to input a list of numbers (separated by spaces).\n",
        "3. Perform the selected operation and display the result.\n",
        "4. Handle potential errors, such as invalid input or empty lists."
      ],
      "metadata": {
        "id": "0o1OreuSsajb"
      }
    },
    {
      "cell_type": "code",
      "source": [
        "def find_sum(numbers):\n",
        "    \"\"\"\n",
        "    Calculates the sum of a list of numbers.\n",
        "\n",
        "    Parameters:\n",
        "    numbers (list): A list of numbers.\n",
        "\n",
        "    Returns:\n",
        "    float: The sum of the numbers.\n",
        "    \"\"\"\n",
        "    return sum(numbers)\n",
        "\n",
        "def find_average(numbers):\n",
        "    \"\"\"\n",
        "    Calculates the average of a list of numbers.\n",
        "\n",
        "    Parameters:\n",
        "    numbers (list): A list of numbers.\n",
        "\n",
        "    Returns:\n",
        "    float: The average of the numbers.\n",
        "    \"\"\"\n",
        "    return sum(numbers) / len(numbers) if numbers else 0\n",
        "\n",
        "def find_maximum(numbers):\n",
        "    \"\"\"\n",
        "    Finds the maximum number in a list of numbers.\n",
        "\n",
        "    Parameters:\n",
        "    numbers (list): A list of numbers.\n",
        "\n",
        "    Returns:\n",
        "    float: The maximum number.\n",
        "    \"\"\"\n",
        "    return max(numbers) if numbers else None\n",
        "\n",
        "def find_minimum(numbers):\n",
        "    \"\"\"\n",
        "    Finds the minimum number in a list of numbers.\n",
        "\n",
        "    Parameters:\n",
        "    numbers (list): A list of numbers.\n",
        "\n",
        "    Returns:\n",
        "    float: The minimum number.\n",
        "    \"\"\"\n",
        "    return min(numbers) if numbers else None\n",
        "\n",
        "def main():\n",
        "    \"\"\"\n",
        "    Main function that drives the program.\n",
        "    Prompts the user to select an operation and input a list of numbers.\n",
        "    Handles errors gracefully and displays the result.\n",
        "    \"\"\"\n",
        "    try:\n",
        "        print(\"Welcome to the Mathematical Operations Program!\")\n",
        "        print(\"Choose an operation:\")\n",
        "        print(\"1. Find the sum\")\n",
        "        print(\"2. Find the average\")\n",
        "        print(\"3. Find the maximum\")\n",
        "        print(\"4. Find the minimum\")\n",
        "\n",
        "        choice = input(\"Enter the number of your choice (1, 2, 3, or 4): \").strip()\n",
        "\n",
        "        if choice not in [\"1\", \"2\", \"3\", \"4\"]:\n",
        "            raise ValueError(\"Invalid choice! Please select a valid option (1, 2, 3, or 4).\")\n",
        "\n",
        "        numbers_input = input(\"Enter the list of numbers (separated by spaces): \").strip()\n",
        "        numbers = [float(num) for num in numbers_input.split()]\n",
        "\n",
        "        if not numbers:\n",
        "            raise ValueError(\"The list cannot be empty!\")\n",
        "\n",
        "        if choice == \"1\":\n",
        "            result = find_sum(numbers)\n",
        "            print(f\"The sum of the numbers is: {result}\")\n",
        "\n",
        "        elif choice == \"2\":\n",
        "            result = find_average(numbers)\n",
        "            print(f\"The average of the numbers is: {result}\")\n",
        "\n",
        "        elif choice == \"3\":\n",
        "            result = find_maximum(numbers)\n",
        "            print(f\"The maximum number is: {result}\")\n",
        "\n",
        "        elif choice == \"4\":\n",
        "            result = find_minimum(numbers)\n",
        "            print(f\"The minimum number is: {result}\")\n",
        "\n",
        "    except ValueError as e:\n",
        "        print(f\"Error: {e}\")\n",
        "    except Exception as e:\n",
        "        print(f\"An unexpected error occurred: {e}\")\n",
        "\n",
        "if __name__ == \"__main__\":\n",
        "    main()\n"
      ],
      "metadata": {
        "colab": {
          "base_uri": "https://localhost:8080/"
        },
        "id": "dgwu459csZh8",
        "outputId": "c0760259-1fe8-4115-91c8-3059d3d0f1d9"
      },
      "execution_count": null,
      "outputs": [
        {
          "output_type": "stream",
          "name": "stdout",
          "text": [
            "Welcome to the Mathematical Operations Program!\n",
            "Choose an operation:\n",
            "1. Find the sum\n",
            "2. Find the average\n",
            "3. Find the maximum\n",
            "4. Find the minimum\n",
            "Enter the number of your choice (1, 2, 3, or 4): 3\n",
            "Enter the list of numbers (separated by spaces): 9 6 10 15 0\n",
            "The maximum number is: 15.0\n"
          ]
        }
      ]
    },
    {
      "cell_type": "markdown",
      "source": [
        "# Exercise on List Manipulation:\n",
        "1. Extract Every Other Element:\n",
        "\n",
        "Write a Python function that extracts every other element from a list, starting from the first element."
      ],
      "metadata": {
        "id": "0WjkMak5srfl"
      }
    },
    {
      "cell_type": "code",
      "source": [
        "def extract_every_other(lst):\n",
        "    return lst[::2]\n",
        "\n",
        "# Example usage:\n",
        "input_list = [1, 2, 3, 4, 5, 6]\n",
        "output_list = extract_every_other(input_list)\n",
        "print(\"Output:\", output_list)\n"
      ],
      "metadata": {
        "colab": {
          "base_uri": "https://localhost:8080/"
        },
        "id": "6htUuOIgsyTm",
        "outputId": "4c03e652-d91c-4eae-8f3e-f883d9ae6166"
      },
      "execution_count": null,
      "outputs": [
        {
          "output_type": "stream",
          "name": "stdout",
          "text": [
            "Output: [1, 3, 5]\n"
          ]
        }
      ]
    },
    {
      "cell_type": "markdown",
      "source": [
        "2. Slice a Sublist:\n",
        "\n",
        "Write a Python function that returns a sublist from a given list, starting from a specified index and ending at another specified index."
      ],
      "metadata": {
        "id": "IVV3qPjqtBvo"
      }
    },
    {
      "cell_type": "code",
      "source": [
        "def get_sublist(lst, start, end):\n",
        "    return lst[start:end+1]\n",
        "\n",
        "# Example usage:\n",
        "input_list = [1, 2, 3, 4, 5, 6]\n",
        "start_index = 2\n",
        "end_index = 4\n",
        "output_list = get_sublist(input_list, start_index, end_index)\n",
        "print(\"Output:\", output_list)\n"
      ],
      "metadata": {
        "colab": {
          "base_uri": "https://localhost:8080/"
        },
        "id": "v0Lv9wTLtF7G",
        "outputId": "5cb4338b-1db1-4289-a0f0-17a2db4a1237"
      },
      "execution_count": null,
      "outputs": [
        {
          "output_type": "stream",
          "name": "stdout",
          "text": [
            "Output: [3, 4, 5]\n"
          ]
        }
      ]
    },
    {
      "cell_type": "markdown",
      "source": [
        "3. Reverse a List Using Slicing:\n",
        "\n",
        "Write a Python function that reverses a list using slicing.\n",
        "• Requirements:\n",
        "– Define a function reverse list(lst) that takes a list lst and returns a reversed list using\n",
        "slicing.\n",
        "– Example: For the input [1, 2, 3, 4, 5], the output should be [5, 4, 3, 2, 1]."
      ],
      "metadata": {
        "id": "7iFz6p69tUhs"
      }
    },
    {
      "cell_type": "code",
      "source": [
        "def reverse_list(lst):\n",
        "    return lst[::-1]\n",
        "\n",
        "# Example usage:\n",
        "input_list = [1, 2, 3, 4, 5]\n",
        "output_list = reverse_list(input_list)\n",
        "print(\"Reversed List:\", output_list)\n"
      ],
      "metadata": {
        "colab": {
          "base_uri": "https://localhost:8080/"
        },
        "id": "GlJ9CWlWtjxH",
        "outputId": "65d9c105-204a-47f6-bdff-4adc6d8fd607"
      },
      "execution_count": null,
      "outputs": [
        {
          "output_type": "stream",
          "name": "stdout",
          "text": [
            "Reversed List: [5, 4, 3, 2, 1]\n"
          ]
        }
      ]
    },
    {
      "cell_type": "markdown",
      "source": [
        "4. Remove the First and Last Elements:\n",
        "\n",
        "Write a Python function that removes the first and last elements of a list and returns the resulting\n",
        "sublist."
      ],
      "metadata": {
        "id": "TCl_F7yNtmP7"
      }
    },
    {
      "cell_type": "code",
      "source": [
        "def remove_first_last(lst):\n",
        "    return lst[1:-1]\n",
        "\n",
        "# Example usage:\n",
        "input_list = [1, 2, 3, 4, 5]\n",
        "output_list = remove_first_last(input_list)\n",
        "print(\"Sublist without first and last elements:\", output_list)\n"
      ],
      "metadata": {
        "colab": {
          "base_uri": "https://localhost:8080/"
        },
        "id": "i0PBXqHRtsI9",
        "outputId": "d1a4d081-19b1-4b62-d4d5-b2e4dc5535a0"
      },
      "execution_count": null,
      "outputs": [
        {
          "output_type": "stream",
          "name": "stdout",
          "text": [
            "Sublist without first and last elements: [2, 3, 4]\n"
          ]
        }
      ]
    },
    {
      "cell_type": "markdown",
      "source": [
        "5. Get the First n Elements:\n",
        "\n",
        "Write a Python function that extracts the first n elements from a list.\n"
      ],
      "metadata": {
        "id": "e3ywtuFWtvzw"
      }
    },
    {
      "cell_type": "code",
      "source": [
        "def get_first_n(lst, n):\n",
        "    return lst[:n]\n",
        "\n",
        "# Example usage:\n",
        "input_list = [1, 2, 3, 4, 5]\n",
        "n = 3\n",
        "output_list = get_first_n(input_list, n)\n",
        "print(\"First n elements:\", output_list)\n"
      ],
      "metadata": {
        "colab": {
          "base_uri": "https://localhost:8080/"
        },
        "id": "ugNL-3Aet17l",
        "outputId": "f97df2c2-ef3b-440a-9ce1-b134d5489558"
      },
      "execution_count": null,
      "outputs": [
        {
          "output_type": "stream",
          "name": "stdout",
          "text": [
            "First n elements: [1, 2, 3]\n"
          ]
        }
      ]
    },
    {
      "cell_type": "markdown",
      "source": [
        "6. Extract Elements from the End:\n",
        "\n",
        "Write a Python function that extracts the last n elements of a list using slicing.\n"
      ],
      "metadata": {
        "id": "Vu8e9ZR4t8CX"
      }
    },
    {
      "cell_type": "code",
      "source": [
        "def get_last_n(lst, n):\n",
        "    return lst[-n:]\n",
        "\n",
        "# Example usage:\n",
        "input_list = [1, 2, 3, 4, 5]\n",
        "n = 2\n",
        "output_list = get_last_n(input_list, n)\n",
        "print(\"Last n elements:\", output_list)\n"
      ],
      "metadata": {
        "colab": {
          "base_uri": "https://localhost:8080/"
        },
        "id": "raajHpFSt-Mb",
        "outputId": "bfe4a981-2154-4c93-da69-d971305baa34"
      },
      "execution_count": null,
      "outputs": [
        {
          "output_type": "stream",
          "name": "stdout",
          "text": [
            "Last n elements: [4, 5]\n"
          ]
        }
      ]
    },
    {
      "cell_type": "markdown",
      "source": [
        "7. Extract Elements in Reverse Order:\n",
        "\n",
        "Write a Python function that extracts a list of elements in reverse order starting from the second-to-last\n",
        "element and skipping one element in between.\n"
      ],
      "metadata": {
        "id": "lXrqzK-juEzt"
      }
    },
    {
      "cell_type": "code",
      "source": [
        "def reverse_skip(lst):\n",
        "    return lst[-2::-2]\n",
        "\n",
        "# Example usage:\n",
        "input_list = [1, 2, 3, 4, 5, 6]\n",
        "output_list = reverse_skip(input_list)\n",
        "print(\"Reversed and skipped elements:\", output_list)\n"
      ],
      "metadata": {
        "colab": {
          "base_uri": "https://localhost:8080/"
        },
        "id": "gaa1pS20uHGC",
        "outputId": "52724da9-89c2-495e-bbb6-615440d3318a"
      },
      "execution_count": null,
      "outputs": [
        {
          "output_type": "stream",
          "name": "stdout",
          "text": [
            "Reversed and skipped elements: [5, 3, 1]\n"
          ]
        }
      ]
    },
    {
      "cell_type": "markdown",
      "source": [
        "# Exercise on Nested List:\n",
        "\n",
        "1. Flatten a Nested List:\n",
        "\n",
        "Write a Python function that takes a nested list and flattens it into a single list, where all the elements\n",
        "are in a single dimension.\n"
      ],
      "metadata": {
        "id": "FY9OoXApuN8p"
      }
    },
    {
      "cell_type": "code",
      "source": [
        "def flatten(lst):\n",
        "    flat_list = []\n",
        "    for sublist in lst:\n",
        "        if isinstance(sublist, list):\n",
        "            flat_list.extend(flatten(sublist))  # Recursively flatten nested lists\n",
        "        else:\n",
        "            flat_list.append(sublist)  # Add the element if it's not a list\n",
        "    return flat_list\n",
        "\n",
        "# Example usage:\n",
        "nested_list = [[1, 2], [3, 4], [5]]\n",
        "flattened_list = flatten(nested_list)\n",
        "print(\"Flattened list:\", flattened_list)\n"
      ],
      "metadata": {
        "colab": {
          "base_uri": "https://localhost:8080/"
        },
        "id": "fgKH7MP6uR4I",
        "outputId": "4c213813-1a4b-45c1-cf72-4f38eabbe3cc"
      },
      "execution_count": null,
      "outputs": [
        {
          "output_type": "stream",
          "name": "stdout",
          "text": [
            "Flattened list: [1, 2, 3, 4, 5]\n"
          ]
        }
      ]
    },
    {
      "cell_type": "markdown",
      "source": [
        "2. Accessing Nested List Elements:\n",
        "\n",
        "Write a Python function that extracts a specific element from a nested list given its indices."
      ],
      "metadata": {
        "id": "-6_VflWKuUp5"
      }
    },
    {
      "cell_type": "code",
      "source": [
        "def access_nested_element(lst, indices):\n",
        "    for index in indices:\n",
        "        lst = lst[index]  # Move to the next level of the list using the current index\n",
        "    return lst  # Return the element when all indices have been accessed\n",
        "\n",
        "# Example usage:\n",
        "nested_list = [[1, 2, 3], [4, 5, 6], [7, 8, 9]]\n",
        "indices = [1, 2]\n",
        "element = access_nested_element(nested_list, indices)\n",
        "print(\"Accessed element:\", element)\n"
      ],
      "metadata": {
        "colab": {
          "base_uri": "https://localhost:8080/"
        },
        "id": "83-L2MxRuaYG",
        "outputId": "f0e3a8a4-e34c-4d63-81ad-1023d6ad15da"
      },
      "execution_count": null,
      "outputs": [
        {
          "output_type": "stream",
          "name": "stdout",
          "text": [
            "Accessed element: 6\n"
          ]
        }
      ]
    },
    {
      "cell_type": "markdown",
      "source": [
        "3. Sum of All Elements in a Nested List:\n",
        "\n",
        "Write a Python function that calculates the sum of all the numbers in a nested list (regardless of depth).\n",
        "\n"
      ],
      "metadata": {
        "id": "FdewTlEGudOS"
      }
    },
    {
      "cell_type": "code",
      "source": [
        "def sum_nested(lst):\n",
        "    total = 0\n",
        "    for item in lst:\n",
        "        if isinstance(item, list):  # If the item is a sublist, recursively call sum_nested\n",
        "            total += sum_nested(item)\n",
        "        else:  # If the item is a number, add it to the total\n",
        "            total += item\n",
        "    return total\n",
        "\n",
        "# Example usage:\n",
        "nested_list = [[1, 2], [3, [4, 5]], 6]\n",
        "result = sum_nested(nested_list)\n",
        "print(\"Sum of all elements:\", result)\n"
      ],
      "metadata": {
        "colab": {
          "base_uri": "https://localhost:8080/"
        },
        "id": "T234IbweujYU",
        "outputId": "74b634d4-cea3-4216-98b0-3ffd93d4fad2"
      },
      "execution_count": null,
      "outputs": [
        {
          "output_type": "stream",
          "name": "stdout",
          "text": [
            "Sum of all elements: 21\n"
          ]
        }
      ]
    },
    {
      "cell_type": "markdown",
      "source": [
        "4. Remove Specific Element from a Nested List:\n",
        "\n",
        "Write a Python function that removes all occurrences of a specific element from a nested list.\n"
      ],
      "metadata": {
        "id": "yOI2tf4SulLn"
      }
    },
    {
      "cell_type": "code",
      "source": [
        "def remove_element(lst, elem):\n",
        "    for i in range(len(lst)):\n",
        "        if isinstance(lst[i], list):  # If the element is a sublist, recursively remove elem from it\n",
        "            lst[i] = remove_element(lst[i], elem)\n",
        "        else:\n",
        "            # If the element is not a list, remove all occurrences of elem\n",
        "            if lst[i] == elem:\n",
        "                lst[i] = None  # Replace the element with None temporarily\n",
        "    # Remove None values which are placeholders for removed elements\n",
        "    lst = [x for x in lst if x is not None]\n",
        "    return lst\n",
        "\n",
        "# Example usage:\n",
        "nested_list = [[1, 2], [3, 2], [4, 5]]\n",
        "element_to_remove = 2\n",
        "result = remove_element(nested_list, element_to_remove)\n",
        "print(\"Modified list:\", result)\n"
      ],
      "metadata": {
        "colab": {
          "base_uri": "https://localhost:8080/"
        },
        "id": "ykO3zZy3uqa8",
        "outputId": "8d3e4000-31d9-4908-87c5-afdb10465dde"
      },
      "execution_count": null,
      "outputs": [
        {
          "output_type": "stream",
          "name": "stdout",
          "text": [
            "Modified list: [[1], [3], [4, 5]]\n"
          ]
        }
      ]
    },
    {
      "cell_type": "markdown",
      "source": [
        "5. Find the Maximum Element in a Nested List:\n",
        "\n",
        "Write a Python function that finds the maximum element in a nested list (regardless of depth).\n"
      ],
      "metadata": {
        "id": "CqpTpB0ku6XD"
      }
    },
    {
      "cell_type": "code",
      "source": [
        "def find_max(lst):\n",
        "    max_elem = float('-inf')  # Initialize max_elem to negative infinity\n",
        "\n",
        "    for item in lst:\n",
        "        if isinstance(item, list):  # If the item is a list, recursively find the maximum in it\n",
        "            max_elem = max(max_elem, find_max(item))\n",
        "        else:\n",
        "            max_elem = max(max_elem, item)  # Compare with the current item\n",
        "\n",
        "    return max_elem\n",
        "\n",
        "# Example usage:\n",
        "nested_list = [[1, 2], [3, [4, 5]], 6]\n",
        "result = find_max(nested_list)\n",
        "print(\"Maximum element:\", result)\n"
      ],
      "metadata": {
        "colab": {
          "base_uri": "https://localhost:8080/"
        },
        "id": "d_CaL-Jzu9mY",
        "outputId": "a9fa9947-d80a-454e-b90e-e6565bc06856"
      },
      "execution_count": null,
      "outputs": [
        {
          "output_type": "stream",
          "name": "stdout",
          "text": [
            "Maximum element: 6\n"
          ]
        }
      ]
    },
    {
      "cell_type": "markdown",
      "source": [
        "6. Count Occurrences of an Element in a Nested List:\n",
        "\n",
        "Write a Python function that counts how many times a specific element appears in a nested list.\n"
      ],
      "metadata": {
        "id": "ObsyQNYLvAvk"
      }
    },
    {
      "cell_type": "code",
      "source": [
        "def count_occurrences(lst, elem):\n",
        "    count = 0  # Initialize count to 0\n",
        "\n",
        "    for item in lst:\n",
        "        if isinstance(item, list):  # If the item is a list, recursively count occurrences\n",
        "            count += count_occurrences(item, elem)\n",
        "        else:\n",
        "            if item == elem:  # If the item is equal to elem, increment the count\n",
        "                count += 1\n",
        "\n",
        "    return count\n",
        "\n",
        "# Example usage:\n",
        "nested_list = [[1, 2], [2, 3], [2, 4]]\n",
        "element_to_count = 2\n",
        "result = count_occurrences(nested_list, element_to_count)\n",
        "print(\"Occurrences of\", element_to_count, \":\", result)\n"
      ],
      "metadata": {
        "colab": {
          "base_uri": "https://localhost:8080/"
        },
        "id": "ynD10OqOvGFT",
        "outputId": "8ea2ee26-1d5e-49eb-9d3b-35687c2c4f7e"
      },
      "execution_count": null,
      "outputs": [
        {
          "output_type": "stream",
          "name": "stdout",
          "text": [
            "Occurrences of 2 : 3\n"
          ]
        }
      ]
    },
    {
      "cell_type": "markdown",
      "source": [
        "7. Flatten a List of Lists of Lists:\n",
        "\n",
        "Write a Python function that flattens a list of lists of lists into a single list, regardless of the depth.\n"
      ],
      "metadata": {
        "id": "WOJsTmrvvI_T"
      }
    },
    {
      "cell_type": "code",
      "source": [
        "def deep_flatten(lst):\n",
        "    flattened = []  # Initialize an empty list to hold the flattened elements\n",
        "\n",
        "    for item in lst:\n",
        "        if isinstance(item, list):  # If the item is a list, recursively flatten it\n",
        "            flattened.extend(deep_flatten(item))\n",
        "        else:\n",
        "            flattened.append(item)  # If the item is not a list, append it directly\n",
        "\n",
        "    return flattened\n",
        "\n",
        "# Example usage:\n",
        "nested_list = [[[1, 2], [3, 4]], [[5, 6], [7, 8]]]\n",
        "result = deep_flatten(nested_list)\n",
        "print(\"Flattened list:\", result)\n"
      ],
      "metadata": {
        "colab": {
          "base_uri": "https://localhost:8080/"
        },
        "id": "pgSHzed4vM8t",
        "outputId": "7718bd58-ff03-4eb2-a8a1-60d5de32869b"
      },
      "execution_count": null,
      "outputs": [
        {
          "output_type": "stream",
          "name": "stdout",
          "text": [
            "Flattened list: [1, 2, 3, 4, 5, 6, 7, 8]\n"
          ]
        }
      ]
    },
    {
      "cell_type": "markdown",
      "source": [
        "8. Nested List Average:\n",
        "\n",
        "Write a Python function that calculates the average of all elements in a nested list.\n"
      ],
      "metadata": {
        "id": "f3ttpgFEvQ2T"
      }
    },
    {
      "cell_type": "code",
      "source": [
        "def flatten(lst):\n",
        "    flattened = []\n",
        "\n",
        "    for item in lst:\n",
        "        if isinstance(item, list):\n",
        "            flattened.extend(flatten(item))  # Recursively flatten the sublist\n",
        "        else:\n",
        "            flattened.append(item)\n",
        "\n",
        "    return flattened\n",
        "\n",
        "def average_nested(lst):\n",
        "    flattened_list = flatten(lst)  # Flatten the nested list\n",
        "    if len(flattened_list) == 0:\n",
        "        return 0  # Return 0 if the list is empty to avoid division by zero\n",
        "\n",
        "    total_sum = sum(flattened_list)  # Sum all elements\n",
        "    total_count = len(flattened_list)  # Count all elements\n",
        "    return total_sum / total_count  # Return the average\n",
        "\n",
        "# Example usage:\n",
        "nested_list = [[1, 2], [3, 4], [5, 6]]\n",
        "result = average_nested(nested_list)\n",
        "print(\"Average of all elements:\", result)\n"
      ],
      "metadata": {
        "colab": {
          "base_uri": "https://localhost:8080/"
        },
        "id": "jUWIROjCvV6m",
        "outputId": "23f4498d-4dd6-47b3-af2d-05735bf5785c"
      },
      "execution_count": null,
      "outputs": [
        {
          "output_type": "stream",
          "name": "stdout",
          "text": [
            "Average of all elements: 3.5\n"
          ]
        }
      ]
    },
    {
      "cell_type": "markdown",
      "source": [
        "# Basic Vector and Matrix Operation with Numpy.\n",
        "\n",
        "Problem - 1: Array Creation:\n",
        "\n",
        "Complete the following Tasks:\n",
        "1. Initialize an empty array with size 2X2."
      ],
      "metadata": {
        "id": "p2DCRAR2vuur"
      }
    },
    {
      "cell_type": "code",
      "source": [
        "import numpy as np"
      ],
      "metadata": {
        "id": "lXxmimvuv6QG"
      },
      "execution_count": 1,
      "outputs": []
    },
    {
      "cell_type": "code",
      "source": [
        "# Initialize an empty array of size 2x2\n",
        "empty_array = np.empty((2, 2))\n",
        "\n",
        "print(\"Empty Array (2x2):\")\n",
        "print(empty_array)\n"
      ],
      "metadata": {
        "colab": {
          "base_uri": "https://localhost:8080/"
        },
        "id": "GixltuI3vzFw",
        "outputId": "53e99af3-9c08-4bac-ae54-de3de941b315"
      },
      "execution_count": null,
      "outputs": [
        {
          "output_type": "stream",
          "name": "stdout",
          "text": [
            "Empty Array (2x2):\n",
            "[[2.92518784e-316 0.00000000e+000]\n",
            " [5.31666808e-317 6.69917180e-310]]\n"
          ]
        }
      ]
    },
    {
      "cell_type": "markdown",
      "source": [
        "2. Initialize an all one array with size 4X2."
      ],
      "metadata": {
        "id": "-5vlePv54IcE"
      }
    },
    {
      "cell_type": "code",
      "source": [
        "# Initialize an all-one array of size 4x2\n",
        "ones_array = np.ones((4, 2))\n",
        "\n",
        "print(\"All-One Array (4x2):\")\n",
        "print(ones_array)\n"
      ],
      "metadata": {
        "colab": {
          "base_uri": "https://localhost:8080/"
        },
        "id": "mp6aTC8W4bka",
        "outputId": "5337b657-0f10-4141-b23b-07ccceadf9c9"
      },
      "execution_count": null,
      "outputs": [
        {
          "output_type": "stream",
          "name": "stdout",
          "text": [
            "All-One Array (4x2):\n",
            "[[1. 1.]\n",
            " [1. 1.]\n",
            " [1. 1.]\n",
            " [1. 1.]]\n"
          ]
        }
      ]
    },
    {
      "cell_type": "markdown",
      "source": [
        "3. Return a new array of given shape and type, filled with fill value.{Hint:"
      ],
      "metadata": {
        "id": "UxVxbjT14nfF"
      }
    },
    {
      "cell_type": "code",
      "source": [
        "# Define shape, fill value, and data type\n",
        "shape = (3, 3)  # Example shape\n",
        "fill_value = 7  # Example fill value\n",
        "dtype = np.int32  # Example data type\n",
        "\n",
        "# Create the array\n",
        "filled_array = np.full(shape, fill_value, dtype=dtype)\n",
        "\n",
        "print(\"Filled Array:\")\n",
        "print(filled_array)\n"
      ],
      "metadata": {
        "colab": {
          "base_uri": "https://localhost:8080/"
        },
        "id": "ZNST6TE64386",
        "outputId": "26d48757-37f3-4a8c-b2c5-2243ace87e80"
      },
      "execution_count": null,
      "outputs": [
        {
          "output_type": "stream",
          "name": "stdout",
          "text": [
            "Filled Array:\n",
            "[[7 7 7]\n",
            " [7 7 7]\n",
            " [7 7 7]]\n"
          ]
        }
      ]
    },
    {
      "cell_type": "markdown",
      "source": [
        "4. Return a new array of zeros with same shape and type as a given array."
      ],
      "metadata": {
        "id": "X2tCKK_25CL1"
      }
    },
    {
      "cell_type": "code",
      "source": [
        "# Given array\n",
        "original_array = np.array([[1, 2, 3], [4, 5, 6]], dtype=np.float64)\n",
        "\n",
        "# Create a new array of zeros with the same shape and type as original_array\n",
        "zeros_array = np.zeros_like(original_array)\n",
        "\n",
        "print(\"Original Array:\")\n",
        "print(original_array)\n",
        "\n",
        "print(\"\\nZeros Array:\")\n",
        "print(zeros_array)\n"
      ],
      "metadata": {
        "colab": {
          "base_uri": "https://localhost:8080/"
        },
        "id": "YKNPWRC65J13",
        "outputId": "502eed6d-de2b-46cd-919f-9dbc51a65d37"
      },
      "execution_count": null,
      "outputs": [
        {
          "output_type": "stream",
          "name": "stdout",
          "text": [
            "Original Array:\n",
            "[[1. 2. 3.]\n",
            " [4. 5. 6.]]\n",
            "\n",
            "Zeros Array:\n",
            "[[0. 0. 0.]\n",
            " [0. 0. 0.]]\n"
          ]
        }
      ]
    },
    {
      "cell_type": "markdown",
      "source": [
        "5. Return a new array of ones with same shape and type as a given array."
      ],
      "metadata": {
        "id": "MtG7dclz5gLr"
      }
    },
    {
      "cell_type": "code",
      "source": [
        "# Given array\n",
        "original_array = np.array([[1, 2, 3], [4, 5, 6]], dtype=np.float64)\n",
        "\n",
        "# Create a new array of ones with the same shape and type as original_array\n",
        "ones_array = np.ones_like(original_array)\n",
        "\n",
        "print(\"Original Array:\")\n",
        "print(original_array)\n",
        "\n",
        "print(\"\\nOnes Array:\")\n",
        "print(ones_array)\n"
      ],
      "metadata": {
        "colab": {
          "base_uri": "https://localhost:8080/"
        },
        "id": "VHrakCOY5oh9",
        "outputId": "5ce74623-f730-4338-cbb1-7248080d0cf9"
      },
      "execution_count": null,
      "outputs": [
        {
          "output_type": "stream",
          "name": "stdout",
          "text": [
            "Original Array:\n",
            "[[1. 2. 3.]\n",
            " [4. 5. 6.]]\n",
            "\n",
            "Ones Array:\n",
            "[[1. 1. 1.]\n",
            " [1. 1. 1.]]\n"
          ]
        }
      ]
    },
    {
      "cell_type": "markdown",
      "source": [
        "6. For an existing list new_list = [1,2,3,4] convert to an numpy array."
      ],
      "metadata": {
        "id": "x495Dl065u49"
      }
    },
    {
      "cell_type": "code",
      "source": [
        "# Given list\n",
        "new_list = [1, 2, 3, 4]\n",
        "\n",
        "# Convert list to NumPy array\n",
        "array = np.array(new_list)\n",
        "\n",
        "print(\"Original List:\", new_list)\n",
        "print(\"Converted NumPy Array:\", array)\n"
      ],
      "metadata": {
        "colab": {
          "base_uri": "https://localhost:8080/"
        },
        "id": "KbR5a4Jt517j",
        "outputId": "cbf8ba39-cac9-46d4-90d4-972877fa6645"
      },
      "execution_count": null,
      "outputs": [
        {
          "output_type": "stream",
          "name": "stdout",
          "text": [
            "Original List: [1, 2, 3, 4]\n",
            "Converted NumPy Array: [1 2 3 4]\n"
          ]
        }
      ]
    },
    {
      "cell_type": "markdown",
      "source": [
        "# Problem - 2: Array Manipulation: Numerical Ranges and Array indexing:\n",
        "Complete the following tasks:\n",
        "1. Create an array with values ranging from 10 to 49. {Hint:np.arrange()}."
      ],
      "metadata": {
        "id": "kTKykX4057Cq"
      }
    },
    {
      "cell_type": "code",
      "source": [
        "import numpy as np\n",
        "\n",
        "# Create an array with values from 10 to 49\n",
        "arr = np.arange(10, 50)\n",
        "\n",
        "print(\"Array with values from 10 to 49:\")\n",
        "print(arr)\n"
      ],
      "metadata": {
        "colab": {
          "base_uri": "https://localhost:8080/"
        },
        "id": "q9gnh6zo6JvG",
        "outputId": "23a89ff9-5ce5-4707-8c04-1ffed54a4b29"
      },
      "execution_count": null,
      "outputs": [
        {
          "output_type": "stream",
          "name": "stdout",
          "text": [
            "Array with values from 10 to 49:\n",
            "[10 11 12 13 14 15 16 17 18 19 20 21 22 23 24 25 26 27 28 29 30 31 32 33\n",
            " 34 35 36 37 38 39 40 41 42 43 44 45 46 47 48 49]\n"
          ]
        }
      ]
    },
    {
      "cell_type": "markdown",
      "source": [
        "2. Create a 3X3 matrix with values ranging from 0 to 8.\n"
      ],
      "metadata": {
        "id": "nZ-SUwSM6Inu"
      }
    },
    {
      "cell_type": "code",
      "source": [
        "arr = np.arange(9)\n",
        "matrix = arr.reshape(3,3)\n",
        "print(\"3*3 Matrix with values from 0 to 8: \")\n",
        "print (matrix)"
      ],
      "metadata": {
        "colab": {
          "base_uri": "https://localhost:8080/"
        },
        "id": "iK3oA_Hn6T1f",
        "outputId": "75926380-f0eb-4481-ca31-1da2594e4a78"
      },
      "execution_count": null,
      "outputs": [
        {
          "output_type": "stream",
          "name": "stdout",
          "text": [
            "3*3 Matrix with values from 0 to 8: \n",
            "[[0 1 2]\n",
            " [3 4 5]\n",
            " [6 7 8]]\n"
          ]
        }
      ]
    },
    {
      "cell_type": "markdown",
      "source": [
        "3. Create a 3X3 identity matrix.{Hint:np.eye()}"
      ],
      "metadata": {
        "id": "IDaDhGof686i"
      }
    },
    {
      "cell_type": "code",
      "source": [
        "identity_matrix = np.eye(3)\n",
        "print(\"3*3 identity matrix\")\n",
        "print(identity_matrix)"
      ],
      "metadata": {
        "colab": {
          "base_uri": "https://localhost:8080/"
        },
        "id": "M8hvk6Wt7G03",
        "outputId": "c74bc388-68b3-4eaf-b5e0-aad6d071e05e"
      },
      "execution_count": null,
      "outputs": [
        {
          "output_type": "stream",
          "name": "stdout",
          "text": [
            "3*3 identity matrix\n",
            "[[1. 0. 0.]\n",
            " [0. 1. 0.]\n",
            " [0. 0. 1.]]\n"
          ]
        }
      ]
    },
    {
      "cell_type": "markdown",
      "source": [
        "4. Create a random array of size 30 and find the mean of the array."
      ],
      "metadata": {
        "id": "4O0x3e3p7R8_"
      }
    },
    {
      "cell_type": "code",
      "source": [
        "random_array = np.random.random(30)\n",
        "mean_value = random_array.mean()\n",
        "print(\"Random Array:\",random_array)\n",
        "print(\"Mean of the array:\",mean_value)"
      ],
      "metadata": {
        "colab": {
          "base_uri": "https://localhost:8080/"
        },
        "id": "v4A4X7qB7Z3K",
        "outputId": "32cf2fa5-bca0-4c80-8c6e-50a271319c7e"
      },
      "execution_count": null,
      "outputs": [
        {
          "output_type": "stream",
          "name": "stdout",
          "text": [
            "Random Array: [0.24818943 0.03109591 0.36082494 0.90098186 0.148158   0.94127917\n",
            " 0.29839725 0.64366796 0.0981488  0.61887338 0.36177267 0.56511619\n",
            " 0.39771289 0.61563767 0.11810761 0.52603803 0.17691856 0.47713258\n",
            " 0.94078543 0.86841471 0.68462669 0.7049064  0.96115179 0.91192061\n",
            " 0.33953999 0.76707953 0.91179913 0.31365248 0.21156462 0.81731279]\n",
            "Mean of the array: 0.532026901617166\n"
          ]
        }
      ]
    },
    {
      "cell_type": "markdown",
      "source": [
        "5. Create a 10X10 array with random values and find the minimum and maximum values."
      ],
      "metadata": {
        "id": "OdKvVmoF70ki"
      }
    },
    {
      "cell_type": "code",
      "source": [
        "random_array_10x10 = np.random.random((10,10))\n",
        "min_value = random_array_10x10.min()\n",
        "max_value = random_array_10x10.max()\n",
        "print(\"Random 10x10 Array:\\n\",random_array_10x10)\n",
        "print(\"Minimum Value:\",min_value)\n",
        "print(\"Maximun Value:\",max_value)"
      ],
      "metadata": {
        "colab": {
          "base_uri": "https://localhost:8080/"
        },
        "id": "XHZTTgvF71id",
        "outputId": "946b8d0a-1cc1-44dc-fe15-6f1d3e392817"
      },
      "execution_count": null,
      "outputs": [
        {
          "output_type": "stream",
          "name": "stdout",
          "text": [
            "Random 10x10 Array:\n",
            " [[0.76779048 0.55490913 0.30648404 0.68935231 0.94691032 0.50497324\n",
            "  0.06116253 0.44165268 0.34735261 0.2473848 ]\n",
            " [0.90807377 0.80822877 0.64128546 0.3868926  0.22340682 0.11213184\n",
            "  0.8481585  0.87740769 0.02421939 0.91580053]\n",
            " [0.43374938 0.39220096 0.0098364  0.62564042 0.80863199 0.25332389\n",
            "  0.2426336  0.57524842 0.33442891 0.3020543 ]\n",
            " [0.72253352 0.09995931 0.98186258 0.79427304 0.62926194 0.25464665\n",
            "  0.0355338  0.38011077 0.86097624 0.49559072]\n",
            " [0.56081121 0.64788703 0.01780923 0.30755753 0.80429032 0.85024023\n",
            "  0.20649507 0.62436762 0.84167398 0.64039411]\n",
            " [0.97891136 0.32638364 0.09707695 0.63713747 0.24829721 0.07214837\n",
            "  0.76283559 0.08240846 0.66548635 0.58701466]\n",
            " [0.98396617 0.85694892 0.64778793 0.1299192  0.08737966 0.6445029\n",
            "  0.37507836 0.63470487 0.64139584 0.10652989]\n",
            " [0.75376598 0.74494037 0.48208709 0.42339619 0.64317314 0.4707787\n",
            "  0.34754368 0.4746907  0.28265631 0.51147002]\n",
            " [0.69683987 0.67144776 0.79227699 0.77994308 0.08125296 0.91716885\n",
            "  0.46781977 0.66281447 0.0439439  0.27010549]\n",
            " [0.16624893 0.9589309  0.86882564 0.24455632 0.33080764 0.0577234\n",
            "  0.86833359 0.2629185  0.16231506 0.34268288]]\n",
            "Minimum Value: 0.009836399436131571\n",
            "Maximun Value: 0.9839661719380525\n"
          ]
        }
      ]
    },
    {
      "cell_type": "markdown",
      "source": [
        "6. Create a zero array of size 10 and replace 5th element with 1."
      ],
      "metadata": {
        "id": "k3r8zloKl3PU"
      }
    },
    {
      "cell_type": "code",
      "source": [
        "# Create a zero array of size 10\n",
        "zero_array = np.zeros(10)\n",
        "\n",
        "# Replace the 5th element (index 4) with 1\n",
        "zero_array[4] = 1\n",
        "\n",
        "print(\"Modified Array:\", zero_array)"
      ],
      "metadata": {
        "colab": {
          "base_uri": "https://localhost:8080/"
        },
        "id": "4XUssdJpl4Bt",
        "outputId": "8aae4c9f-e14a-4ec8-a87f-13d32c233abd"
      },
      "execution_count": 2,
      "outputs": [
        {
          "output_type": "stream",
          "name": "stdout",
          "text": [
            "Modified Array: [0. 0. 0. 0. 1. 0. 0. 0. 0. 0.]\n"
          ]
        }
      ]
    },
    {
      "cell_type": "markdown",
      "source": [
        "7. Reverse an array arr = [1,2,0,0,4,0]."
      ],
      "metadata": {
        "id": "xvp3cO3Ul-rz"
      }
    },
    {
      "cell_type": "code",
      "source": [
        "# Given array\n",
        "arr = np.array([1, 2, 0, 0, 4, 0])\n",
        "\n",
        "# Reverse the array\n",
        "reversed_arr = arr[::-1]\n",
        "\n",
        "print(\"Original Array:\", arr)\n",
        "print(\"Reversed Array:\", reversed_arr)"
      ],
      "metadata": {
        "colab": {
          "base_uri": "https://localhost:8080/"
        },
        "id": "YijvQAT6mFEc",
        "outputId": "e635bdbe-a154-4497-da77-abc35145e7d1"
      },
      "execution_count": 3,
      "outputs": [
        {
          "output_type": "stream",
          "name": "stdout",
          "text": [
            "Original Array: [1 2 0 0 4 0]\n",
            "Reversed Array: [0 4 0 0 2 1]\n"
          ]
        }
      ]
    },
    {
      "cell_type": "markdown",
      "source": [
        "8. Create a 2d array with 1 on border and 0 inside."
      ],
      "metadata": {
        "id": "2YnNwNOxmIsp"
      }
    },
    {
      "cell_type": "code",
      "source": [
        "# Define the size of the 2D array (e.g., 5x5)\n",
        "rows, cols = 5, 5\n",
        "\n",
        "# Create an array filled with zeros\n",
        "array = np.zeros((rows, cols), dtype=int)\n",
        "\n",
        "# Set the border elements to 1\n",
        "array[0, :] = 1  # Top border\n",
        "array[-1, :] = 1  # Bottom border\n",
        "array[:, 0] = 1  # Left border\n",
        "array[:, -1] = 1  # Right border\n",
        "\n",
        "print(\"2D Array with 1 on border and 0 inside:\\n\", array)"
      ],
      "metadata": {
        "colab": {
          "base_uri": "https://localhost:8080/"
        },
        "id": "Q9y_vcgYmL7T",
        "outputId": "0fa125fb-632c-4bd5-fe27-efde4c4bd2e0"
      },
      "execution_count": 4,
      "outputs": [
        {
          "output_type": "stream",
          "name": "stdout",
          "text": [
            "2D Array with 1 on border and 0 inside:\n",
            " [[1 1 1 1 1]\n",
            " [1 0 0 0 1]\n",
            " [1 0 0 0 1]\n",
            " [1 0 0 0 1]\n",
            " [1 1 1 1 1]]\n"
          ]
        }
      ]
    },
    {
      "cell_type": "markdown",
      "source": [
        "9. Create a 8X8 matrix and fill it with a checkerboard pattern."
      ],
      "metadata": {
        "id": "hCaHRp0nmQqY"
      }
    },
    {
      "cell_type": "code",
      "source": [
        "# Create an 8x8 array filled with zeros\n",
        "checkerboard = np.zeros((8, 8), dtype=int)\n",
        "\n",
        "# Fill with 1s at alternate positions\n",
        "checkerboard[1::2, ::2] = 1  # Odd rows, even columns\n",
        "checkerboard[::2, 1::2] = 1  # Even rows, odd columns\n",
        "\n",
        "print(\"8x8 Checkerboard Pattern:\\n\", checkerboard)"
      ],
      "metadata": {
        "colab": {
          "base_uri": "https://localhost:8080/"
        },
        "id": "VqXtKPWfmUwk",
        "outputId": "dded44d8-e59f-4df4-d02f-f82f7d224f41"
      },
      "execution_count": 5,
      "outputs": [
        {
          "output_type": "stream",
          "name": "stdout",
          "text": [
            "8x8 Checkerboard Pattern:\n",
            " [[0 1 0 1 0 1 0 1]\n",
            " [1 0 1 0 1 0 1 0]\n",
            " [0 1 0 1 0 1 0 1]\n",
            " [1 0 1 0 1 0 1 0]\n",
            " [0 1 0 1 0 1 0 1]\n",
            " [1 0 1 0 1 0 1 0]\n",
            " [0 1 0 1 0 1 0 1]\n",
            " [1 0 1 0 1 0 1 0]]\n"
          ]
        }
      ]
    },
    {
      "cell_type": "markdown",
      "source": [
        "# Problem - 3: Array Operations:\n",
        "For the following arrays:\n",
        "\n",
        "x = np.array([[1,2],[3,5]]) and\n",
        "\n",
        "y = np.array([[5,6],[7,8]]);\n",
        "\n",
        "v = np.array([9,10]) and\n",
        "\n",
        "w = np.array([11,12]);\n",
        "\n",
        "Complete all the task using numpy:\n",
        "1. Add the two array."
      ],
      "metadata": {
        "id": "jD8UUsQgmbB7"
      }
    },
    {
      "cell_type": "code",
      "source": [
        "# Define the arrays\n",
        "x = np.array([[1, 2], [3, 5]])\n",
        "y = np.array([[5, 6], [7, 8]])\n",
        "\n",
        "# Add the arrays\n",
        "result = np.add(x, y)  # or result = x + y\n",
        "\n",
        "print(\"Sum of x and y:\\n\", result)"
      ],
      "metadata": {
        "colab": {
          "base_uri": "https://localhost:8080/"
        },
        "id": "3EUFvKXRmyA7",
        "outputId": "7b747b91-4b9f-4d46-c461-32c7e34cf60e"
      },
      "execution_count": 6,
      "outputs": [
        {
          "output_type": "stream",
          "name": "stdout",
          "text": [
            "Sum of x and y:\n",
            " [[ 6  8]\n",
            " [10 13]]\n"
          ]
        }
      ]
    },
    {
      "cell_type": "markdown",
      "source": [
        "2. Subtract the two array."
      ],
      "metadata": {
        "id": "oCx5cCcinAyt"
      }
    },
    {
      "cell_type": "code",
      "source": [
        "# Subtract the arrays\n",
        "result = np.subtract(x, y)  # or result = x - y\n",
        "\n",
        "print(\"Subtraction of y from x:\\n\", result)"
      ],
      "metadata": {
        "colab": {
          "base_uri": "https://localhost:8080/"
        },
        "id": "qHPRTYtjnVbK",
        "outputId": "f45f45fc-070d-4583-928c-13707196ff58"
      },
      "execution_count": 7,
      "outputs": [
        {
          "output_type": "stream",
          "name": "stdout",
          "text": [
            "Subtraction of y from x:\n",
            " [[-4 -4]\n",
            " [-4 -3]]\n"
          ]
        }
      ]
    },
    {
      "cell_type": "markdown",
      "source": [
        "3. Multiply the array with any integers of your choice."
      ],
      "metadata": {
        "id": "v1-BesC2nXYM"
      }
    },
    {
      "cell_type": "code",
      "source": [
        "# Define the array\n",
        "x = np.array([[1, 2], [3, 5]])\n",
        "\n",
        "# Multiply by an integer (e.g., 3)\n",
        "result = np.multiply(x, 3)  # or result = x * 3\n",
        "\n",
        "print(\"Array x multiplied by 3:\\n\", result)"
      ],
      "metadata": {
        "colab": {
          "base_uri": "https://localhost:8080/"
        },
        "id": "SBYhe31wnasD",
        "outputId": "395e6fea-ffd5-4a9c-a0eb-200fd1577056"
      },
      "execution_count": 8,
      "outputs": [
        {
          "output_type": "stream",
          "name": "stdout",
          "text": [
            "Array x multiplied by 3:\n",
            " [[ 3  6]\n",
            " [ 9 15]]\n"
          ]
        }
      ]
    },
    {
      "cell_type": "markdown",
      "source": [
        "4. Find the square of each element of the array."
      ],
      "metadata": {
        "id": "TgmtYwiWngn3"
      }
    },
    {
      "cell_type": "code",
      "source": [
        "# Define the array\n",
        "x = np.array([[1, 2], [3, 5]])\n",
        "\n",
        "# Square each element\n",
        "squared_array = np.square(x)  # or squared_array = x ** 2\n",
        "\n",
        "print(\"Squared Array:\\n\", squared_array)"
      ],
      "metadata": {
        "colab": {
          "base_uri": "https://localhost:8080/"
        },
        "id": "mmw1BdshnkNe",
        "outputId": "e56ff5f5-2bf2-48f4-b6cb-384e502f9482"
      },
      "execution_count": 9,
      "outputs": [
        {
          "output_type": "stream",
          "name": "stdout",
          "text": [
            "Squared Array:\n",
            " [[ 1  4]\n",
            " [ 9 25]]\n"
          ]
        }
      ]
    },
    {
      "cell_type": "markdown",
      "source": [
        "5. Find the dot product between: v(and)w ; x(and)v ; x(and)y."
      ],
      "metadata": {
        "id": "odycrM9EnqVT"
      }
    },
    {
      "cell_type": "code",
      "source": [
        "x = np.array([[1, 2], [3, 5]])\n",
        "y = np.array([[5, 6], [7, 8]])\n",
        "v = np.array([9, 10])\n",
        "w = np.array([11, 12])\n",
        "\n",
        "# Dot product between v and w\n",
        "dot_v_w = np.dot(v, w)\n",
        "\n",
        "# Dot product between x and v\n",
        "dot_x_v = np.dot(x, v)\n",
        "\n",
        "# Dot product between x and y\n",
        "dot_x_y = np.dot(x, y)\n",
        "\n",
        "print(\"Dot product of v and w:\", dot_v_w)\n",
        "print(\"Dot product of x and v:\\n\", dot_x_v)\n",
        "print(\"Dot product of x and y:\\n\", dot_x_y)"
      ],
      "metadata": {
        "colab": {
          "base_uri": "https://localhost:8080/"
        },
        "id": "lOC0jQxtnunL",
        "outputId": "bd1d8685-b907-47f3-acac-6cc1fcc59bfa"
      },
      "execution_count": 10,
      "outputs": [
        {
          "output_type": "stream",
          "name": "stdout",
          "text": [
            "Dot product of v and w: 219\n",
            "Dot product of x and v:\n",
            " [29 77]\n",
            "Dot product of x and y:\n",
            " [[19 22]\n",
            " [50 58]]\n"
          ]
        }
      ]
    },
    {
      "cell_type": "markdown",
      "source": [
        "6. Concatenate x(and)y along row and Concatenate v(and)w along column.\n",
        "{Hint:try np.concatenate() or np.vstack() functions."
      ],
      "metadata": {
        "id": "Adb3hqkbn4Xh"
      }
    },
    {
      "cell_type": "code",
      "source": [
        "# Concatenate x and y along rows (axis=1)\n",
        "concat_x_y = np.concatenate((x, y), axis=1)\n",
        "\n",
        "# Concatenate v and w along columns (axis=0)\n",
        "concat_v_w = np.concatenate((v[:, np.newaxis], w[:, np.newaxis]), axis=0)\n",
        "\n",
        "# Alternatively, you can also use vstack\n",
        "# concat_v_w = np.vstack((v, w))\n",
        "\n",
        "print(\"Concatenated x and y along rows:\\n\", concat_x_y)\n",
        "print(\"Concatenated v and w along columns:\\n\", concat_v_w)"
      ],
      "metadata": {
        "colab": {
          "base_uri": "https://localhost:8080/"
        },
        "id": "FS7ZNkg6oBhj",
        "outputId": "5e9d7f98-cf77-49c8-ac60-5330804a2f26"
      },
      "execution_count": 11,
      "outputs": [
        {
          "output_type": "stream",
          "name": "stdout",
          "text": [
            "Concatenated x and y along rows:\n",
            " [[1 2 5 6]\n",
            " [3 5 7 8]]\n",
            "Concatenated v and w along columns:\n",
            " [[ 9]\n",
            " [10]\n",
            " [11]\n",
            " [12]]\n"
          ]
        }
      ]
    },
    {
      "cell_type": "markdown",
      "source": [
        "7. Concatenate x(and)v; if you get an error, observe and explain why did you get the error?"
      ],
      "metadata": {
        "id": "jkkrE6khoFor"
      }
    },
    {
      "cell_type": "code",
      "source": [
        "x = np.array([[1, 2], [3, 5]])\n",
        "v = np.array([9, 10])\n",
        "\n",
        "# Try to concatenate x and v\n",
        "concat_x_v = np.concatenate((x, v), axis=0)\n",
        "\n",
        "print(\"Concatenated x and v:\\n\", concat_x_v)\n"
      ],
      "metadata": {
        "colab": {
          "base_uri": "https://localhost:8080/",
          "height": 219
        },
        "id": "-m1_GSEloUH1",
        "outputId": "4a74281f-f14d-44ab-edaa-a3838d341ec3"
      },
      "execution_count": 12,
      "outputs": [
        {
          "output_type": "error",
          "ename": "ValueError",
          "evalue": "all the input arrays must have same number of dimensions, but the array at index 0 has 2 dimension(s) and the array at index 1 has 1 dimension(s)",
          "traceback": [
            "\u001b[0;31m---------------------------------------------------------------------------\u001b[0m",
            "\u001b[0;31mValueError\u001b[0m                                Traceback (most recent call last)",
            "\u001b[0;32m<ipython-input-12-7cc85aead002>\u001b[0m in \u001b[0;36m<cell line: 0>\u001b[0;34m()\u001b[0m\n\u001b[1;32m      3\u001b[0m \u001b[0;34m\u001b[0m\u001b[0m\n\u001b[1;32m      4\u001b[0m \u001b[0;31m# Try to concatenate x and v\u001b[0m\u001b[0;34m\u001b[0m\u001b[0;34m\u001b[0m\u001b[0m\n\u001b[0;32m----> 5\u001b[0;31m \u001b[0mconcat_x_v\u001b[0m \u001b[0;34m=\u001b[0m \u001b[0mnp\u001b[0m\u001b[0;34m.\u001b[0m\u001b[0mconcatenate\u001b[0m\u001b[0;34m(\u001b[0m\u001b[0;34m(\u001b[0m\u001b[0mx\u001b[0m\u001b[0;34m,\u001b[0m \u001b[0mv\u001b[0m\u001b[0;34m)\u001b[0m\u001b[0;34m,\u001b[0m \u001b[0maxis\u001b[0m\u001b[0;34m=\u001b[0m\u001b[0;36m0\u001b[0m\u001b[0;34m)\u001b[0m\u001b[0;34m\u001b[0m\u001b[0;34m\u001b[0m\u001b[0m\n\u001b[0m\u001b[1;32m      6\u001b[0m \u001b[0;34m\u001b[0m\u001b[0m\n\u001b[1;32m      7\u001b[0m \u001b[0mprint\u001b[0m\u001b[0;34m(\u001b[0m\u001b[0;34m\"Concatenated x and v:\\n\"\u001b[0m\u001b[0;34m,\u001b[0m \u001b[0mconcat_x_v\u001b[0m\u001b[0;34m)\u001b[0m\u001b[0;34m\u001b[0m\u001b[0;34m\u001b[0m\u001b[0m\n",
            "\u001b[0;31mValueError\u001b[0m: all the input arrays must have same number of dimensions, but the array at index 0 has 2 dimension(s) and the array at index 1 has 1 dimension(s)"
          ]
        }
      ]
    },
    {
      "cell_type": "markdown",
      "source": [
        "# Problem - 4: Matrix Operations:\n",
        "• For the following arrays:\n",
        "\n",
        "A = np.array([[3,4],[7,8]]) and B = np.array([[5,3],[2,1]]);\n",
        "\n",
        "Prove following with Numpy:\n",
        "1. Prove A.A−1 = I."
      ],
      "metadata": {
        "id": "J4a1VXUdonOM"
      }
    },
    {
      "cell_type": "code",
      "source": [
        "# Given matrix A\n",
        "A = np.array([[3, 4], [7, 8]])\n",
        "\n",
        "# Calculate the inverse of A\n",
        "A_inv = np.linalg.inv(A)\n",
        "\n",
        "# Multiply A with A_inv to get the result\n",
        "result = np.dot(A, A_inv)\n",
        "\n",
        "# Print the result and the identity matrix\n",
        "print(\"A * A_inv:\\n\", result)\n",
        "print(\"Identity matrix I:\\n\", np.eye(2))"
      ],
      "metadata": {
        "colab": {
          "base_uri": "https://localhost:8080/"
        },
        "id": "0PYIrikeo6Jq",
        "outputId": "f0f2d835-0ec7-4427-aa0c-e2bd7ce6ae52"
      },
      "execution_count": 13,
      "outputs": [
        {
          "output_type": "stream",
          "name": "stdout",
          "text": [
            "A * A_inv:\n",
            " [[1.00000000e+00 0.00000000e+00]\n",
            " [1.77635684e-15 1.00000000e+00]]\n",
            "Identity matrix I:\n",
            " [[1. 0.]\n",
            " [0. 1.]]\n"
          ]
        }
      ]
    },
    {
      "cell_type": "markdown",
      "source": [
        "2. Prove AB ̸= BA."
      ],
      "metadata": {
        "id": "qJu2q07OpB0a"
      }
    },
    {
      "cell_type": "code",
      "source": [
        "import numpy as np\n",
        "\n",
        "# Given matrices A and B\n",
        "A = np.array([[3, 4], [7, 8]])\n",
        "B = np.array([[5, 3], [2, 1]])\n",
        "\n",
        "# Multiply A by B\n",
        "AB = np.dot(A, B)\n",
        "\n",
        "# Multiply B by A\n",
        "BA = np.dot(B, A)\n",
        "\n",
        "# Print the results of AB and BA\n",
        "print(\"AB:\\n\", AB)\n",
        "print(\"BA:\\n\", BA)\n"
      ],
      "metadata": {
        "colab": {
          "base_uri": "https://localhost:8080/"
        },
        "id": "L0n8m1kKpFEb",
        "outputId": "0c6cd2ce-3a56-4ac0-df5d-83933b410ec6"
      },
      "execution_count": 14,
      "outputs": [
        {
          "output_type": "stream",
          "name": "stdout",
          "text": [
            "AB:\n",
            " [[23 13]\n",
            " [51 29]]\n",
            "BA:\n",
            " [[36 44]\n",
            " [13 16]]\n"
          ]
        }
      ]
    },
    {
      "cell_type": "markdown",
      "source": [
        "3. Prove (AB)T = BTAT"
      ],
      "metadata": {
        "id": "SxCwDRr8pMlt"
      }
    },
    {
      "cell_type": "code",
      "source": [
        "# Given matrices A and B\n",
        "A = np.array([[3, 4], [7, 8]])\n",
        "B = np.array([[5, 3], [2, 1]])\n",
        "\n",
        "# Compute (AB)^T\n",
        "AB_T = np.transpose(np.dot(A, B))\n",
        "\n",
        "# Compute B^T A^T\n",
        "B_T_A_T = np.dot(np.transpose(B), np.transpose(A))\n",
        "\n",
        "# Print the results of both\n",
        "print(\"Transpose of AB (AB)^T:\\n\", AB_T)\n",
        "print(\"Product of Transpose of B and A (B^T A^T):\\n\", B_T_A_T)"
      ],
      "metadata": {
        "colab": {
          "base_uri": "https://localhost:8080/"
        },
        "id": "7IK-4ohDpTny",
        "outputId": "01baa8ee-cd7b-4a5d-ddd0-58491bcb6594"
      },
      "execution_count": 15,
      "outputs": [
        {
          "output_type": "stream",
          "name": "stdout",
          "text": [
            "Transpose of AB (AB)^T:\n",
            " [[23 51]\n",
            " [13 29]]\n",
            "Product of Transpose of B and A (B^T A^T):\n",
            " [[23 51]\n",
            " [13 29]]\n"
          ]
        }
      ]
    },
    {
      "cell_type": "markdown",
      "source": [
        "• Solve the following system of Linear equation using Inverse Methods.\n",
        "\n",
        "2x − 3y + z = −1\n",
        "x − y + 2z = −3\n",
        "3x + y − z = 9\n",
        "\n",
        "{Hint: First use Numpy array to represent the equation in Matrix form. Then Solve for: AX = B}\n",
        "\n",
        "• Now: solve the above equation using np.linalg.inv function.{Explore more about ”linalg” func-\n",
        "tion of Numpy}"
      ],
      "metadata": {
        "id": "n45Vn3D2pdhT"
      }
    },
    {
      "cell_type": "code",
      "source": [
        "# Coefficient matrix A\n",
        "A = np.array([[2, -3, 1],\n",
        "              [1, -1, 2],\n",
        "              [3, 1, -1]])\n",
        "\n",
        "# Constant vector B\n",
        "B = np.array([-1, -3, 9])\n",
        "\n",
        "# Find the inverse of matrix A\n",
        "A_inv = np.linalg.inv(A)\n",
        "\n",
        "# Solve for X using the inverse of A\n",
        "X = np.dot(A_inv, B)\n",
        "\n",
        "# Print the solution\n",
        "print(\"Solution (x, y, z):\", X)"
      ],
      "metadata": {
        "colab": {
          "base_uri": "https://localhost:8080/"
        },
        "id": "TC-aWyfQp3N1",
        "outputId": "4c8f9fad-ceb2-48fb-af86-1b4f076e4bc5"
      },
      "execution_count": 16,
      "outputs": [
        {
          "output_type": "stream",
          "name": "stdout",
          "text": [
            "Solution (x, y, z): [ 2.  1. -2.]\n"
          ]
        }
      ]
    },
    {
      "cell_type": "markdown",
      "source": [
        "# Experiment: How Fast is Numpy?\n",
        "\n",
        "---\n",
        "\n"
      ],
      "metadata": {
        "id": "iWo5j6jrp9nz"
      }
    },
    {
      "cell_type": "markdown",
      "source": [
        "\n",
        "1. Element-wise Addition:\n",
        "\n",
        "• Using Python Lists, perform element-wise addition of two lists of size 1, 000, 000. Measure and Print the time taken for this operation.\n",
        "\n",
        "• Using Numpy Arrays, Repeat the calculation and measure and print the time taken for\n",
        "this operation."
      ],
      "metadata": {
        "id": "P6vtzuIIqEJy"
      }
    },
    {
      "cell_type": "code",
      "source": [
        "import time\n",
        "import numpy as np\n",
        "\n",
        "# Creating two lists of size 1,000,000\n",
        "list1 = [i for i in range(1, 1000001)]\n",
        "list2 = [i for i in range(1000001, 2000001)]\n",
        "\n",
        "# Element-wise addition using Python Lists\n",
        "start_time = time.time()\n",
        "result_list = [list1[i] + list2[i] for i in range(len(list1))]\n",
        "end_time = time.time()\n",
        "python_list_time = end_time - start_time\n",
        "\n",
        "# Creating two NumPy arrays of size 1,000,000\n",
        "array1 = np.arange(1, 1000001)\n",
        "array2 = np.arange(1000001, 2000001)\n",
        "\n",
        "# Element-wise addition using NumPy Arrays\n",
        "start_time = time.time()\n",
        "result_array = array1 + array2\n",
        "end_time = time.time()\n",
        "numpy_array_time = end_time - start_time\n",
        "\n",
        "# Printing the time taken for both operations\n",
        "print(f\"Time taken for element-wise addition using Python Lists: {python_list_time:.6f} seconds\")\n",
        "print(f\"Time taken for element-wise addition using NumPy Arrays: {numpy_array_time:.6f} seconds\")\n"
      ],
      "metadata": {
        "colab": {
          "base_uri": "https://localhost:8080/"
        },
        "id": "HywTwvveqO7x",
        "outputId": "0820b971-9301-4cc5-8902-c50b5a94b5a1"
      },
      "execution_count": 17,
      "outputs": [
        {
          "output_type": "stream",
          "name": "stdout",
          "text": [
            "Time taken for element-wise addition using Python Lists: 0.117553 seconds\n",
            "Time taken for element-wise addition using NumPy Arrays: 0.007588 seconds\n"
          ]
        }
      ]
    },
    {
      "cell_type": "markdown",
      "source": [
        "2. Element-wise Multiplication\n",
        "\n",
        "• Using Python Lists, perform element-wise multiplication of two lists of size 1, 000, 000. Measure and Print the time taken for this operation.\n",
        "\n",
        "• Using Numpy Arrays, Repeat the calculation and measure and print the time taken for\n",
        "this operation."
      ],
      "metadata": {
        "id": "CPU4PMSkr2Ti"
      }
    },
    {
      "cell_type": "code",
      "source": [
        "# Element-wise multiplication using Python Lists\n",
        "start_time = time.time()\n",
        "result_list = [list1[i] * list2[i] for i in range(len(list1))]\n",
        "end_time = time.time()\n",
        "python_list_time = end_time - start_time\n",
        "\n",
        "# Creating two NumPy arrays of size 1,000,000\n",
        "array1 = np.arange(1, 1000001)\n",
        "array2 = np.arange(1000001, 2000001)\n",
        "\n",
        "# Element-wise multiplication using NumPy Arrays\n",
        "start_time = time.time()\n",
        "result_array = array1 * array2\n",
        "end_time = time.time()\n",
        "numpy_array_time = end_time - start_time\n",
        "\n",
        "# Printing the time taken for both operations\n",
        "print(f\"Time taken for element-wise multiplication using Python Lists: {python_list_time:.6f} seconds\")\n",
        "print(f\"Time taken for element-wise multiplication using NumPy Arrays: {numpy_array_time:.6f} seconds\")"
      ],
      "metadata": {
        "colab": {
          "base_uri": "https://localhost:8080/"
        },
        "id": "ujAcNumMr1At",
        "outputId": "f6d8db6f-6851-4c18-bf58-8ea886c56f63"
      },
      "execution_count": 18,
      "outputs": [
        {
          "output_type": "stream",
          "name": "stdout",
          "text": [
            "Time taken for element-wise multiplication using Python Lists: 0.122450 seconds\n",
            "Time taken for element-wise multiplication using NumPy Arrays: 0.011249 seconds\n"
          ]
        }
      ]
    },
    {
      "cell_type": "markdown",
      "source": [
        "3. Dot Product\n",
        "\n",
        "• Using Python Lists, compute the dot product of two lists of size 1, 000, 000. Measure and\n",
        "Print the time taken for this operation.\n",
        "\n",
        "• Using Numpy Arrays, Repeat the calculation and measure and print the time taken for\n",
        "this operation."
      ],
      "metadata": {
        "id": "i-Zc-cdEr68I"
      }
    },
    {
      "cell_type": "code",
      "source": [
        "# Dot product using Python Lists\n",
        "start_time = time.time()\n",
        "dot_product_list = sum(list1[i] * list2[i] for i in range(len(list1)))\n",
        "end_time = time.time()\n",
        "python_list_time = end_time - start_time\n",
        "\n",
        "# Creating two NumPy arrays of size 1,000,000\n",
        "array1 = np.arange(1, 1000001)\n",
        "array2 = np.arange(1000001, 2000001)\n",
        "\n",
        "# Dot product using NumPy Arrays\n",
        "start_time = time.time()\n",
        "dot_product_array = np.dot(array1, array2)\n",
        "end_time = time.time()\n",
        "numpy_array_time = end_time - start_time\n",
        "\n",
        "# Printing the time taken for both operations\n",
        "print(f\"Time taken for dot product using Python Lists: {python_list_time:.6f} seconds\")\n",
        "print(f\"Time taken for dot product using NumPy Arrays: {numpy_array_time:.6f} seconds\")"
      ],
      "metadata": {
        "colab": {
          "base_uri": "https://localhost:8080/"
        },
        "id": "0LgaSCdvsArr",
        "outputId": "6732c4d0-9fc0-484f-e555-61248e8cdf6c"
      },
      "execution_count": 19,
      "outputs": [
        {
          "output_type": "stream",
          "name": "stdout",
          "text": [
            "Time taken for dot product using Python Lists: 0.118026 seconds\n",
            "Time taken for dot product using NumPy Arrays: 0.001626 seconds\n"
          ]
        }
      ]
    },
    {
      "cell_type": "markdown",
      "source": [
        "4. Matrix Multiplication\n",
        "\n",
        "• Using Python lists, perform matrix multiplication of two matrices of size 1000x1000. Mea-\n",
        "sure and print the time taken for this operation.\n",
        "\n",
        "• Using NumPy arrays, perform matrix multiplication of two matrices of size 1000x1000.\n",
        "Measure and print the time taken for this operation."
      ],
      "metadata": {
        "id": "PTlrjrWpsPUS"
      }
    },
    {
      "cell_type": "code",
      "source": [
        "# Create two 1000x1000 matrices using Python Lists\n",
        "matrix1 = [[i + j for j in range(1000)] for i in range(1000)]\n",
        "matrix2 = [[i * j for j in range(1000)] for i in range(1000)]\n",
        "\n",
        "# Start time for Python Lists matrix multiplication\n",
        "start_time = time.time()\n",
        "\n",
        "# Perform matrix multiplication manually\n",
        "result_list = [[sum(matrix1[i][k] * matrix2[k][j] for k in range(1000)) for j in range(1000)] for i in range(1000)]\n",
        "\n",
        "# End time for Python Lists matrix multiplication\n",
        "end_time = time.time()\n",
        "python_list_time = end_time - start_time\n",
        "\n",
        "# Matrix multiplication using NumPy Arrays\n",
        "\n",
        "# Create two 1000x1000 matrices using NumPy\n",
        "matrix1_np = np.random.rand(1000, 1000)\n",
        "matrix2_np = np.random.rand(1000, 1000)\n",
        "\n",
        "# Start time for NumPy matrix multiplication\n",
        "start_time = time.time()\n",
        "\n",
        "# Perform matrix multiplication using NumPy\n",
        "result_np = np.dot(matrix1_np, matrix2_np)\n",
        "\n",
        "# End time for NumPy matrix multiplication\n",
        "end_time = time.time()\n",
        "numpy_array_time = end_time - start_time\n",
        "\n",
        "# Print the time taken for both operations\n",
        "print(f\"Time taken for matrix multiplication using Python Lists: {python_list_time:.6f} seconds\")\n",
        "print(f\"Time taken for matrix multiplication using NumPy Arrays: {numpy_array_time:.6f} seconds\")\n"
      ],
      "metadata": {
        "colab": {
          "base_uri": "https://localhost:8080/"
        },
        "id": "Vc_ScRD_sbtr",
        "outputId": "e4da0642-06bd-4520-e3be-4480b9f75a94"
      },
      "execution_count": 20,
      "outputs": [
        {
          "output_type": "stream",
          "name": "stdout",
          "text": [
            "Time taken for matrix multiplication using Python Lists: 214.454578 seconds\n",
            "Time taken for matrix multiplication using NumPy Arrays: 0.084686 seconds\n"
          ]
        }
      ]
    }
  ]
}